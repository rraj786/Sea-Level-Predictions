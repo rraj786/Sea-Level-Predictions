{
 "cells": [
  {
   "cell_type": "markdown",
   "metadata": {},
   "source": [
    "# Predicting Sea Levels\n",
    "### Evaluate sea level rise over the next few years based on time-series analysis and Monte-Carlo simulation."
   ]
  },
  {
   "cell_type": "code",
   "execution_count": 2,
   "metadata": {},
   "outputs": [],
   "source": [
    "# Set up notebook headers\n",
    "import matplotlib.pyplot as plt\n",
    "import numpy as np\n",
    "import pandas as pd\n",
    "import plotly.express as px\n",
    "import plotly.graph_objects as go\n",
    "from pmdarima.arima import auto_arima\n",
    "from scipy.stats import boxcox\n",
    "from scipy.special import inv_boxcox\n",
    "from sklearn.metrics import mean_squared_error\n",
    "from statsmodels.graphics.tsaplots import plot_acf, plot_pacf\n",
    "from statsmodels.tsa.arima.model import ARIMA\n",
    "from statsmodels.tsa.ar_model import AutoReg, ar_select_order\n",
    "from statsmodels.tsa.stattools import adfuller\n",
    "import yfinance as yf\n",
    "\n",
    "%matplotlib inline\n",
    "%load_ext autoreload\n",
    "%autoreload 2"
   ]
  },
  {
   "cell_type": "markdown",
   "metadata": {},
   "source": [
    "#### Data Collection\n",
    "Read in an Excel file containing 5 sheets which have been compiled from various sources to reflect monthly measurements between June 2000 and July 2024:\n",
    "- Sea Levels: Variation in sea levels (mm) relative to June 2000. Sourced from [NASA](https://climate.nasa.gov/vital-signs/sea-level/?intent=121).\n",
    "- CO2 Levels: Concentration of carbon dioxide in the atmosphere (ppm). Sourced from [NASA](https://climate.nasa.gov/vital-signs/carbon-dioxide/?intent=121).\n",
    "- Temperature: Average surface temperature (deg C). Sourced from \n",
    "- Ocean Warming: Energy stored in the oceans (ZJ) relative to June 2000. Sourced from \n",
    "- Polar Mass: Variation of polar mass in Antarctica (billion tons) relative to June 2000. Sourced from "
   ]
  },
  {
   "cell_type": "code",
   "execution_count": null,
   "metadata": {},
   "outputs": [],
   "source": [
    "dataset = pd.read_excel('C:\\\\Users\\\\rohit\\\\OneDrive\\\\2024\\\\Sea Level Predictions\\\\Project_Final.xlsx', \n",
    "                        sheet_name = ['Sea Levels', 'CO2 Levels', 'Temperature', 'Ocean Warming', 'Polar Mass'])"
   ]
  },
  {
   "cell_type": "markdown",
   "metadata": {},
   "source": [
    "#### Visualise Raw Data\n",
    "View some records in each table and plot them to highlight any key trends and/or outliers."
   ]
  },
  {
   "cell_type": "code",
   "execution_count": 7,
   "metadata": {},
   "outputs": [
    {
     "data": {
      "text/html": [
       "<div>\n",
       "<style scoped>\n",
       "    .dataframe tbody tr th:only-of-type {\n",
       "        vertical-align: middle;\n",
       "    }\n",
       "\n",
       "    .dataframe tbody tr th {\n",
       "        vertical-align: top;\n",
       "    }\n",
       "\n",
       "    .dataframe thead th {\n",
       "        text-align: right;\n",
       "    }\n",
       "</style>\n",
       "<table border=\"1\" class=\"dataframe\">\n",
       "  <thead>\n",
       "    <tr style=\"text-align: right;\">\n",
       "      <th></th>\n",
       "      <th>Date</th>\n",
       "      <th>Antarctica Change in Mass (billion tons)</th>\n",
       "    </tr>\n",
       "  </thead>\n",
       "  <tbody>\n",
       "    <tr>\n",
       "      <th>0</th>\n",
       "      <td>2000-06-01</td>\n",
       "      <td>-406.8928</td>\n",
       "    </tr>\n",
       "    <tr>\n",
       "      <th>1</th>\n",
       "      <td>2000-07-01</td>\n",
       "      <td>-408.9063</td>\n",
       "    </tr>\n",
       "    <tr>\n",
       "      <th>2</th>\n",
       "      <td>2000-08-01</td>\n",
       "      <td>-410.9198</td>\n",
       "    </tr>\n",
       "    <tr>\n",
       "      <th>3</th>\n",
       "      <td>2000-09-01</td>\n",
       "      <td>-412.9334</td>\n",
       "    </tr>\n",
       "    <tr>\n",
       "      <th>4</th>\n",
       "      <td>2000-10-01</td>\n",
       "      <td>-414.9469</td>\n",
       "    </tr>\n",
       "    <tr>\n",
       "      <th>...</th>\n",
       "      <td>...</td>\n",
       "      <td>...</td>\n",
       "    </tr>\n",
       "    <tr>\n",
       "      <th>272</th>\n",
       "      <td>2023-02-01</td>\n",
       "      <td>-2919.6934</td>\n",
       "    </tr>\n",
       "    <tr>\n",
       "      <th>273</th>\n",
       "      <td>2023-03-01</td>\n",
       "      <td>-2821.3634</td>\n",
       "    </tr>\n",
       "    <tr>\n",
       "      <th>274</th>\n",
       "      <td>2023-04-01</td>\n",
       "      <td>-2610.5334</td>\n",
       "    </tr>\n",
       "    <tr>\n",
       "      <th>275</th>\n",
       "      <td>2023-05-01</td>\n",
       "      <td>-2756.5934</td>\n",
       "    </tr>\n",
       "    <tr>\n",
       "      <th>276</th>\n",
       "      <td>2023-06-01</td>\n",
       "      <td>-2757.3634</td>\n",
       "    </tr>\n",
       "  </tbody>\n",
       "</table>\n",
       "<p>277 rows × 2 columns</p>\n",
       "</div>"
      ],
      "text/plain": [
       "          Date  Antarctica Change in Mass (billion tons)\n",
       "0   2000-06-01                                 -406.8928\n",
       "1   2000-07-01                                 -408.9063\n",
       "2   2000-08-01                                 -410.9198\n",
       "3   2000-09-01                                 -412.9334\n",
       "4   2000-10-01                                 -414.9469\n",
       "..         ...                                       ...\n",
       "272 2023-02-01                                -2919.6934\n",
       "273 2023-03-01                                -2821.3634\n",
       "274 2023-04-01                                -2610.5334\n",
       "275 2023-05-01                                -2756.5934\n",
       "276 2023-06-01                                -2757.3634\n",
       "\n",
       "[277 rows x 2 columns]"
      ]
     },
     "execution_count": 7,
     "metadata": {},
     "output_type": "execute_result"
    }
   ],
   "source": [
    "data_file['Sheet5']"
   ]
  },
  {
   "cell_type": "code",
   "execution_count": null,
   "metadata": {},
   "outputs": [],
   "source": []
  }
 ],
 "metadata": {
  "kernelspec": {
   "display_name": "yolov7_custom",
   "language": "python",
   "name": "python3"
  },
  "language_info": {
   "codemirror_mode": {
    "name": "ipython",
    "version": 3
   },
   "file_extension": ".py",
   "mimetype": "text/x-python",
   "name": "python",
   "nbconvert_exporter": "python",
   "pygments_lexer": "ipython3",
   "version": "3.9.19"
  }
 },
 "nbformat": 4,
 "nbformat_minor": 2
}
